{
 "cells": [
  {
   "cell_type": "code",
   "execution_count": null,
   "metadata": {},
   "outputs": [],
   "source": [
    "import plotly.graph_objs as go\n",
    "import dash\n",
    "import dash_core_components as dcc\n",
    "import dash_html_components as html\n",
    "from dash.dependencies import Input, Output, State\n",
    "\n",
    "import pandas as pd\n",
    "import pandas_datareader.data as web\n",
    "from datetime import datetime"
   ]
  },
  {
   "cell_type": "code",
   "execution_count": null,
   "metadata": {},
   "outputs": [],
   "source": [
    "# Read the company list that is shown in the dropdown menu (This list is static, not fetched from web)\n",
    "comp_list = pd.read_csv(\"company_list.csv\")"
   ]
  },
  {
   "cell_type": "code",
   "execution_count": null,
   "metadata": {},
   "outputs": [],
   "source": [
    "# Generate the list of dictionaries for dropdown\n",
    "options = []\n",
    "for i in comp_list.index:\n",
    "    # {'label':'user sees', 'value':'script sees'}\n",
    "    cdict = {'label':comp_list.iloc[i]['NAME'], 'value':comp_list.iloc[i]['SYMBOL']}\n",
    "    options.append(cdict)"
   ]
  },
  {
   "cell_type": "code",
   "execution_count": null,
   "metadata": {},
   "outputs": [],
   "source": [
    "# launch the application\n",
    "app = dash.Dash()"
   ]
  },
  {
   "cell_type": "code",
   "execution_count": null,
   "metadata": {},
   "outputs": [],
   "source": [
    "app.layout = html.Div([\n",
    "    # Header of the dashboard\n",
    "    html.H1(children='Stock Ticker Dashboard'),\n",
    "    \n",
    "    # Element on the left (Dropdown and its header)\n",
    "    html.Div([\n",
    "        html.H3(children='Select Stock Symbols'),\n",
    "        dcc.Dropdown(\n",
    "            id='dropdown',\n",
    "            options=options,\n",
    "            value=['TSLA.US'], # Default company that will shown to user at initialization\n",
    "            multi=True\n",
    "        )\n",
    "    ], style={'width':'30%', 'display':'inline-block', 'verticalAlign':'top', 'paddingRight':'25px'}),\n",
    "    \n",
    "    # Element next to dropdown - The date selector and it's header\n",
    "    html.Div([\n",
    "        html.H3(children='Select Start and End Dates'),\n",
    "        dcc.DatePickerRange(\n",
    "            id='date-picker',\n",
    "            min_date_allowed = datetime(2018, 1, 1),\n",
    "            max_date_allowed = datetime.today(),\n",
    "            start_date = datetime(2020, 1, 1), # Default start date\n",
    "            end_date = datetime.today() # Default end date\n",
    "        )\n",
    "    ], style={'width':'30%', 'display':'inline-block', 'verticalAlign':'top'}),\n",
    "    \n",
    "    # Submit button next to the above two elements\n",
    "    html.Div([\n",
    "        html.Button(\n",
    "            id='submit-button', \n",
    "            children='SUBMIT',\n",
    "            n_clicks=0,\n",
    "            style={'fontSize':24}\n",
    "        )\n",
    "    ], style={'display':'inline-block', 'verticalAlign':'bottom', 'marginBottom':'25px'}),\n",
    "    \n",
    "    # The graph (It is empty by default, parameters are filled at callback below when submit button is clicked)\n",
    "    html.Div([\n",
    "        dcc.Graph(id='graph')\n",
    "    ])\n",
    "])"
   ]
  },
  {
   "cell_type": "code",
   "execution_count": null,
   "metadata": {},
   "outputs": [],
   "source": [
    "@app.callback(\n",
    "    # The figure component of graph is the output that we want to change when submit is clicked\n",
    "    Output('graph','figure'),\n",
    "    # Our input is the button click\n",
    "    [Input('submit-button', 'n_clicks')],\n",
    "    # These states are the intermediary values to keep in memory before click\n",
    "    [State('dropdown','value'), State('date-picker','start_date'), State('date-picker','end_date')]\n",
    ")\n",
    "def update_graph(nclicks, stock_ticker, start_date, end_date):\n",
    "    start = datetime.strptime(start_date[:10], '%Y-%m-%d')\n",
    "    end = datetime.strptime(end_date[:10], '%Y-%m-%d')\n",
    "    # Traces are the figure data for each dropdown element selected \n",
    "    traces = []\n",
    "    for tic in stock_ticker:\n",
    "        # Each company's stock price values are fetched from internet using API's of pandas-datareader \n",
    "        df = web.DataReader(tic, 'stooq', start, end)\n",
    "        traces.append({'x':df.index, 'y':df['Close'], 'name':tic})\n",
    "    # Final figure after selection from dropdown and date picker are made\n",
    "    fig={\n",
    "        'data':traces,\n",
    "        'layout':{'title':', '.join(stock_ticker)+' Closing Prices'}\n",
    "    }\n",
    "    return fig"
   ]
  },
  {
   "cell_type": "code",
   "execution_count": null,
   "metadata": {},
   "outputs": [],
   "source": [
    "if __name__ == '__main__':\n",
    "    app.run_server()"
   ]
  }
 ],
 "metadata": {
  "kernelspec": {
   "display_name": "Python 3",
   "language": "python",
   "name": "python3"
  },
  "language_info": {
   "codemirror_mode": {
    "name": "ipython",
    "version": 3
   },
   "file_extension": ".py",
   "mimetype": "text/x-python",
   "name": "python",
   "nbconvert_exporter": "python",
   "pygments_lexer": "ipython3",
   "version": "3.8.5"
  }
 },
 "nbformat": 4,
 "nbformat_minor": 4
}
